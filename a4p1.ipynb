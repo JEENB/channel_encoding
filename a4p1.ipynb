{
 "cells": [
  {
   "cell_type": "code",
   "execution_count": 260,
   "metadata": {},
   "outputs": [],
   "source": [
    "import numpy as np\n",
    "from utils import *\n",
    "from tabulate import tabulate"
   ]
  },
  {
   "cell_type": "code",
   "execution_count": 261,
   "metadata": {},
   "outputs": [],
   "source": [
    "%run utils.py\n",
    "class Channel:\n",
    "\tdef __init__(self, G, H) -> None:\n",
    "\t\tself.n = 4\n",
    "\t\tself.k = 2\n",
    "\t\tself.d = self.n - self.k\n",
    "\t\tself.G = G\n",
    "\t\tself.H = H\n",
    "\t\tself.codeword = get_codeword(self.G, code=generate_binary(self.k))\n",
    "\t\tself.std_arr = get_standard_array(n = self.n, codeword = self.codeword)\n",
    "\t\t# print(\"Codewords:\", self.codeword)\n",
    "\t\t# print(\"Standard Array\", self.std_arr)\n",
    "\n",
    "\t\tif self.G.shape != (self.n, self.k) or self.H.shape != (self.d, self.n):\n",
    "\t\t\traise ValueError(\"Matrix shape mismatch\")\n",
    "\t\t\n",
    "\t\t\n",
    "\tdef encode(self, data:str) -> list:\n",
    "\t\tif len(data) != self.k:\n",
    "\t\t\traise ValueError\n",
    "\t\tnumpy_equiv_data = np.array(list(data), dtype=int)\n",
    "\t\tcodeword = np.matmul(self.G, numpy_equiv_data)%2\n",
    "\t\treturn list(codeword)\n",
    "\n",
    "\tdef add_error(self, p:float, codeword) -> list:\n",
    "\t\tif p < 0 and p > 1:\n",
    "\t\t\traise ValueError(\"Expected between 0 and 1\")\n",
    "\t\terror = bsc(p)\n",
    "\t\ty_p = np.bitwise_xor(codeword, error)\n",
    "\t\t\n",
    "\t\treturn y_p, error\n",
    "\t\t\n",
    "\n",
    "\tdef decode(self, y_prime:list, debug:bool = False) -> str:\n",
    "\t\tcoset_synd = {} ## dict of coset leader and syndrome\n",
    "\t\tfor arr in self.std_arr.values():\n",
    "\t\t\tcoset_synd[arr[0]] = np.matmul(self.H,convert_str_to_numpy(arr[0]))%2\n",
    "\t\t\n",
    "\t\tsyndrome = np.matmul(self.H, y_prime)%2\n",
    "\t\t\n",
    "\t\tcoset_leader = get_key(coset_synd, syndrome)\n",
    "\t\t\n",
    "\t\ty = np.bitwise_xor(y_prime, convert_str_to_numpy(coset_leader))\n",
    "\t\tif debug: \n",
    "\t\t\tprint(\"Coset and Syndrome\", coset_synd)\n",
    "\t\t\tprint(f\"Syndrome: {syndrome}\")\n",
    "\t\t\tprint(f'coset leader: {coset_leader}')\n",
    "\t\treturn string_equiv_from_list(y[0:2])\n",
    "\t\t\n",
    "\t\t\n"
   ]
  },
  {
   "cell_type": "code",
   "execution_count": 262,
   "metadata": {},
   "outputs": [],
   "source": [
    "%run utils.py\n",
    "def simulate(channel:Channel, n:int, p:float, debug:bool = False):\n",
    "    X = generate_binary(2)\n",
    "    word_error_count = 0\n",
    "    ser = 0\n",
    "    for i in range(n):\n",
    "        x = string_equiv_from_list(random.choice(X))  ## randomly choose a 2 bit binary \n",
    "\n",
    "        codeword = channel.encode(x)\n",
    "        \n",
    "        y_prime, er = channel.add_error(p=p, codeword=codeword)\n",
    "        \n",
    "        x_prime = channel.decode(y_prime=y_prime, debug=debug)\n",
    "          \n",
    "        if debug:\n",
    "            print(f\"x: {x}\")\n",
    "            print(f\"codeword: {codeword}\")\n",
    "            print(f\"error: {er}\")\n",
    "            print(f\"yprime: {y_prime}\")\n",
    "            print(f\"x_prime: {x_prime}\")\n",
    "            print(\"-------------------------------------\")\n",
    "        \n",
    "        ## calculate ser\n",
    "        temp_ser_count = 0\n",
    "    \n",
    "        for (x_dash_i, x_i) in zip(x_prime,x):\n",
    "            if x_dash_i != x_i:\n",
    "                temp_ser_count+=1\n",
    "        \n",
    "        ser+=(temp_ser_count/2)\n",
    "\n",
    "        ## calculate wer\n",
    "        if temp_ser_count > 0:\n",
    "            word_error_count += 1\n",
    "            \n",
    "    # print(word_error_count, ser/n)\n",
    "    return word_error_count/n, ser/n"
   ]
  },
  {
   "cell_type": "code",
   "execution_count": 265,
   "metadata": {},
   "outputs": [],
   "source": [
    "def main():\n",
    "\tG = np.array([  [1,0],\n",
    "                [0,1],\n",
    "                [1,0],\n",
    "                [1,1]\n",
    "              ])\n",
    "\n",
    "\tH = np.array([  [1,0,1,0],\n",
    "\t\t\t\t\t[1,1,0,1]\n",
    "\t\t\t\t])\n",
    "\n",
    "\tc = Channel(G, H)\n",
    "\n",
    "\tnum_simulations = [10, 100, 1000, 10000]\n",
    "\toutput = []\n",
    "\tfor i in num_simulations:\n",
    "\t\twer, ser = simulate(channel = c, n = i, p = 0.3, debug=False)\n",
    "\t\toutput.append([i, wer, ser])\n",
    "\tprint(tabulate(output, headers= ['Simulation', 'Wer', 'Ser'], tablefmt=\"pretty\", numalign='center'))\n",
    "\t"
   ]
  },
  {
   "cell_type": "code",
   "execution_count": 266,
   "metadata": {},
   "outputs": [
    {
     "name": "stdout",
     "output_type": "stream",
     "text": [
      "+------------+--------+---------+\n",
      "| Simulation |  Wer   |   Ser   |\n",
      "+------------+--------+---------+\n",
      "|     10     |  0.5   |   0.3   |\n",
      "|    100     |  0.43  |  0.27   |\n",
      "|    1000    | 0.464  | 0.2905  |\n",
      "|   10000    | 0.4447 | 0.28085 |\n",
      "+------------+--------+---------+\n"
     ]
    }
   ],
   "source": [
    "main()"
   ]
  },
  {
   "cell_type": "code",
   "execution_count": 267,
   "metadata": {},
   "outputs": [
    {
     "name": "stdout",
     "output_type": "stream",
     "text": [
      "0.28319999999999995 0.45120000000000016\n"
     ]
    }
   ],
   "source": [
    "def theoretic_limit(p):\n",
    "\tp = p\n",
    "\tq = 1-p\n",
    "\ts = 0\n",
    "\tser = 8*(p**2)*(q**2) + p*(q**3) + 5*(p**3)*q + 2*p**4\n",
    "\twer =  3 * p * q**3  + q**4\n",
    "\tprint(ser/2, 1 - wer)\n",
    "\t\n",
    "\n",
    "theoretic_limit(0.3)"
   ]
  },
  {
   "cell_type": "code",
   "execution_count": null,
   "metadata": {},
   "outputs": [],
   "source": []
  }
 ],
 "metadata": {
  "kernelspec": {
   "display_name": "a4",
   "language": "python",
   "name": "python3"
  },
  "language_info": {
   "codemirror_mode": {
    "name": "ipython",
    "version": 3
   },
   "file_extension": ".py",
   "mimetype": "text/x-python",
   "name": "python",
   "nbconvert_exporter": "python",
   "pygments_lexer": "ipython3",
   "version": "3.9.6"
  },
  "orig_nbformat": 4,
  "vscode": {
   "interpreter": {
    "hash": "3e23a01c325c56bc77042bf9b0d7ac255645e39dfcae1a0df06588ebb4efbe87"
   }
  }
 },
 "nbformat": 4,
 "nbformat_minor": 2
}
